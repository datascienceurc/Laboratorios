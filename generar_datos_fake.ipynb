{
  "nbformat": 4,
  "nbformat_minor": 0,
  "metadata": {
    "colab": {
      "provenance": [],
      "authorship_tag": "ABX9TyOyouSM+p4idP7XMM2D1Jv9",
      "include_colab_link": true
    },
    "kernelspec": {
      "name": "python3",
      "display_name": "Python 3"
    },
    "language_info": {
      "name": "python"
    }
  },
  "cells": [
    {
      "cell_type": "markdown",
      "metadata": {
        "id": "view-in-github",
        "colab_type": "text"
      },
      "source": [
        "<a href=\"https://colab.research.google.com/github/datascienceurc/Laboratorios/blob/main/generar_datos_fake.ipynb\" target=\"_parent\"><img src=\"https://colab.research.google.com/assets/colab-badge.svg\" alt=\"Open In Colab\"/></a>"
      ]
    },
    {
      "cell_type": "markdown",
      "source": [
        "# Instalación de libreria faker\n"
      ],
      "metadata": {
        "id": "03AhsJyQTScz"
      }
    },
    {
      "cell_type": "code",
      "execution_count": null,
      "metadata": {
        "colab": {
          "base_uri": "https://localhost:8080/"
        },
        "id": "u_gD8eI_TMST",
        "outputId": "bb6fb2d7-24c6-41ff-f009-d353541280f7"
      },
      "outputs": [
        {
          "output_type": "stream",
          "name": "stdout",
          "text": [
            "Collecting faker\n",
            "  Downloading Faker-19.6.2-py3-none-any.whl (1.7 MB)\n",
            "\u001b[?25l     \u001b[90m━━━━━━━━━━━━━━━━━━━━━━━━━━━━━━━━━━━━━━━━\u001b[0m \u001b[32m0.0/1.7 MB\u001b[0m \u001b[31m?\u001b[0m eta \u001b[36m-:--:--\u001b[0m\r\u001b[2K     \u001b[91m━━━━\u001b[0m\u001b[91m╸\u001b[0m\u001b[90m━━━━━━━━━━━━━━━━━━━━━━━━━━━━━━━━━━━\u001b[0m \u001b[32m0.2/1.7 MB\u001b[0m \u001b[31m5.6 MB/s\u001b[0m eta \u001b[36m0:00:01\u001b[0m\r\u001b[2K     \u001b[91m━━━━━━━━━━━━━━━━\u001b[0m\u001b[90m╺\u001b[0m\u001b[90m━━━━━━━━━━━━━━━━━━━━━━━\u001b[0m \u001b[32m0.7/1.7 MB\u001b[0m \u001b[31m10.2 MB/s\u001b[0m eta \u001b[36m0:00:01\u001b[0m\r\u001b[2K     \u001b[91m━━━━━━━━━━━━━━━━━━━━━━━━━━━━━━━━━\u001b[0m\u001b[91m╸\u001b[0m\u001b[90m━━━━━━\u001b[0m \u001b[32m1.5/1.7 MB\u001b[0m \u001b[31m13.9 MB/s\u001b[0m eta \u001b[36m0:00:01\u001b[0m\r\u001b[2K     \u001b[90m━━━━━━━━━━━━━━━━━━━━━━━━━━━━━━━━━━━━━━━━\u001b[0m \u001b[32m1.7/1.7 MB\u001b[0m \u001b[31m13.2 MB/s\u001b[0m eta \u001b[36m0:00:00\u001b[0m\n",
            "\u001b[?25hRequirement already satisfied: python-dateutil>=2.4 in /usr/local/lib/python3.10/dist-packages (from faker) (2.8.2)\n",
            "Requirement already satisfied: six>=1.5 in /usr/local/lib/python3.10/dist-packages (from python-dateutil>=2.4->faker) (1.16.0)\n",
            "Installing collected packages: faker\n",
            "Successfully installed faker-19.6.2\n"
          ]
        }
      ],
      "source": [
        "!pip install faker"
      ]
    },
    {
      "cell_type": "markdown",
      "source": [
        "# Se crea  datos dummy con libreria faker\n"
      ],
      "metadata": {
        "id": "eee7gyqQTbFJ"
      }
    },
    {
      "cell_type": "code",
      "source": [
        "import faker\n",
        "import pandas as pd\n",
        "\n",
        "# Crear un generador de datos fake\n",
        "fake = faker.Faker()\n",
        "\n",
        "# Generar un nombre\n",
        "nombre = fake.name()\n",
        "\n",
        "# Generar un correo electrónico\n",
        "correo_electronico = fake.email()\n",
        "\n",
        "# Generar una dirección\n",
        "direccion = fake.address()\n",
        "\n",
        "# Imprimir los datos\n",
        "print(nombre)\n",
        "print(correo_electronico)\n",
        "print(direccion)\n",
        "\n",
        "# Crear un DataFrame vacío\n",
        "df = pd.DataFrame({\"nombre\": [nombre], \"correo\": [correo_electronico], \"direccion\": [direccion]})\n",
        "\n",
        " # Agregar los datos al DataFrame\n",
        "\n",
        "df.to_csv(\"datos.csv\", sep=\",\", header=True, index=False)"
      ],
      "metadata": {
        "colab": {
          "base_uri": "https://localhost:8080/"
        },
        "id": "S8jTo27oTidS",
        "outputId": "26af2e76-64b3-4fce-b5eb-05502a554177"
      },
      "execution_count": null,
      "outputs": [
        {
          "output_type": "stream",
          "name": "stdout",
          "text": [
            "Ryan Mason\n",
            "whiteian@example.net\n",
            "850 Michelle Stravenue\n",
            "East Leslie, NY 67951\n"
          ]
        }
      ]
    },
    {
      "cell_type": "markdown",
      "source": [
        "#Crear 2 millares de datos en formato csv"
      ],
      "metadata": {
        "id": "0Ha3_J7XWt6P"
      }
    },
    {
      "cell_type": "code",
      "source": [
        "import pandas as pd\n",
        "import faker\n",
        "\n",
        "# Crear un generador de datos fake\n",
        "fake = faker.Faker()\n",
        "\n",
        "# Crear un DataFrame vacío\n",
        "df = pd.DataFrame()\n",
        "\n",
        "# Generar 2 millares de datos\n",
        "for i in range(2000):\n",
        "    # Generar la edad\n",
        "    edad = fake.random_int(18, 65)\n",
        "\n",
        "    # Generar el género\n",
        "    genero = fake.random_element([\"masculino\", \"femenino\"])\n",
        "\n",
        "    # Generar el código postal\n",
        "    codigo_postal = fake.postcode()\n",
        "\n",
        "\n",
        "    # Agregar los datos al DataFrame\n",
        "    df = df.append({\n",
        "        \"edad\": edad,\n",
        "        \"genero\": genero,\n",
        "        \"codigo_postal\": codigo_postal\n",
        "    }, ignore_index=True)\n",
        "\n",
        "# Guardar el DataFrame en un archivo CSV\n",
        "df.to_csv(\"datos.csv\")"
      ],
      "metadata": {
        "id": "2auWHSzjW28X"
      },
      "execution_count": null,
      "outputs": []
    }
  ]
}
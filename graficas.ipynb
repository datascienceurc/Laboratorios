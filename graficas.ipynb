{
  "nbformat": 4,
  "nbformat_minor": 0,
  "metadata": {
    "colab": {
      "provenance": [],
      "mount_file_id": "14HDE2WfW8MlJuXsIVsXrMq4XzbFkpM_z",
      "authorship_tag": "ABX9TyMiNA15/aSZC6tL50Yw5hJY",
      "include_colab_link": true
    },
    "kernelspec": {
      "name": "python3",
      "display_name": "Python 3"
    },
    "language_info": {
      "name": "python"
    }
  },
  "cells": [
    {
      "cell_type": "markdown",
      "metadata": {
        "id": "view-in-github",
        "colab_type": "text"
      },
      "source": [
        "<a href=\"https://colab.research.google.com/github/datascienceurc/Laboratorios/blob/main/graficas.ipynb\" target=\"_parent\"><img src=\"https://colab.research.google.com/assets/colab-badge.svg\" alt=\"Open In Colab\"/></a>"
      ]
    },
    {
      "cell_type": "code",
      "source": [
        "from google.colab import drive\n",
        "drive.mount('/content/drive')"
      ],
      "metadata": {
        "colab": {
          "base_uri": "https://localhost:8080/"
        },
        "id": "4ZimdHe7EpJC",
        "outputId": "3c49ae06-3212-4884-893b-00f370a0f7ca"
      },
      "execution_count": 17,
      "outputs": [
        {
          "output_type": "stream",
          "name": "stdout",
          "text": [
            "Drive already mounted at /content/drive; to attempt to forcibly remount, call drive.mount(\"/content/drive\", force_remount=True).\n"
          ]
        }
      ]
    },
    {
      "cell_type": "code",
      "execution_count": null,
      "metadata": {
        "id": "QJA1vzALEGF4"
      },
      "outputs": [],
      "source": [
        "\n",
        "import pandas as pd\n",
        "import matplotlib.pyplot as plt\n",
        "\n",
        "# Obtener url de archivo csv\n",
        "path =\"/content/atenciones_abogadas_de_las_mujeres.csv\"\n",
        "\n",
        "# Leer el CSV\n",
        "df = pd.read_csv(path)\n",
        "\n",
        "# Obtener el conteo de cada categoría\n",
        "conteo = df[\"usuaria_estado_civil\"].value_counts()\n",
        "\n",
        "# Crear el diagrama de barras\n",
        "plt.barh( conteo.index, conteo)\n",
        "\n",
        "# Graficar\n",
        "plt.show()"
      ]
    },
    {
      "cell_type": "code",
      "source": [
        "import pandas as pd\n",
        "import matplotlib.pyplot as plt\n",
        "\n",
        "# Crear un DataFrame de ejemplo\n",
        "df = pd.DataFrame({'A': ['foo', 'bar', 'foo', 'bar', 'foo', 'bar', 'foo', 'foo'],\n",
        "                   'B': ['one', 'one', 'two', 'three', 'two', 'two', 'one', 'three']})\n",
        "\n",
        "# Calcular value_counts para la columna A\n",
        "conteo = df['A'].value_counts()\n",
        "\n",
        "# Invertir el orden de las columnas\n",
        "#conteo = conteo.iloc[::-1]\n",
        "\n",
        "# Crear el diagrama de barras\n",
        "plt.bar(conteo,conteo.index)\n",
        "\n",
        "# Invertir el eje vertical\n",
        "# plt.gca().invert_xaxis()\n",
        "\n",
        "# Mostrar el diagrama de barras\n",
        "plt.show()"
      ],
      "metadata": {
        "id": "GfZCKVKhFH32",
        "colab": {
          "base_uri": "https://localhost:8080/",
          "height": 430
        },
        "outputId": "9abfa6d9-f6e9-4e75-cc25-f7a84d045da6"
      },
      "execution_count": null,
      "outputs": [
        {
          "output_type": "display_data",
          "data": {
            "text/plain": [
              "<Figure size 640x480 with 1 Axes>"
            ],
            "image/png": "[encoded data removed]"
          },
          "metadata": {}
        }
      ]
    },
    {
      "cell_type": "code",
      "source": [],
      "metadata": {
        "id": "keQJY4Tn4zD4"
      },
      "execution_count": null,
      "outputs": []
    },
    {
      "cell_type": "markdown",
      "source": [
        "# Diagrama de caja\n"
      ],
      "metadata": {
        "id": "EaU7x5hV41p5"
      }
    },
    {
      "cell_type": "code",
      "source": [
        "import pandas as pd\n",
        "import matplotlib.pyplot as plt\n",
        "\n",
        "path=\"/content/drive/MyDrive/Conjunto de datos/atenciones_231005.csv\"\n",
        "\n",
        "# Crear un dataframe\n",
        "df =pd.read_csv(path)\n",
        "\n",
        "#filtrado\n",
        "df_filtrado = df.query(\"usuaria_edad <= 160\")\n",
        "\n",
        "print(df_filtrado[\"usuaria_edad\"])\n",
        "\n",
        "\n",
        "# Crear el diagrama de caja\n",
        "plt.boxplot(df_filtrado[\"usuaria_edad\"])\n",
        "\n",
        "\n",
        "# Mostrar el diagrama de caja\n",
        "plt.show()\n"
      ],
      "metadata": {
        "colab": {
          "base_uri": "https://localhost:8080/",
          "height": 693
        },
        "id": "hJqetC7y48vv",
        "outputId": "5036d225-773a-4c93-f518-bf319f0d2d14"
      },
      "execution_count": null,
      "outputs": [
        {
          "output_type": "stream",
          "name": "stderr",
          "text": [
            "<ipython-input-16-dc9678ff1d6d>:7: DtypeWarning: Columns (14,19,20,21) have mixed types. Specify dtype option on import or set low_memory=False.\n",
            "  df =pd.read_csv(path)\n"
          ]
        },
        {
          "output_type": "stream",
          "name": "stdout",
          "text": [
            "0         33.0\n",
            "1         26.0\n",
            "2         25.0\n",
            "3         55.0\n",
            "4         33.0\n",
            "          ... \n",
            "121990    50.0\n",
            "121991    31.0\n",
            "121992    20.0\n",
            "121993    26.0\n",
            "121994    31.0\n",
            "Name: usuaria_edad, Length: 119978, dtype: float64\n"
          ]
        },
        {
          "output_type": "display_data",
          "data": {
            "text/plain": [
              "<Figure size 640x480 with 1 Axes>"
            ],
            "image/png": "[encoded data removed]"
          },
          "metadata": {}
        }
      ]
    }
  ]
}
{
  "nbformat": 4,
  "nbformat_minor": 0,
  "metadata": {
    "colab": {
      "provenance": [],
      "authorship_tag": "ABX9TyMR3Cnfcy1duYSaSrGfQl0c",
      "include_colab_link": true
    },
    "kernelspec": {
      "name": "python3",
      "display_name": "Python 3"
    },
    "language_info": {
      "name": "python"
    }
  },
  "cells": [
    {
      "cell_type": "markdown",
      "metadata": {
        "id": "view-in-github",
        "colab_type": "text"
      },
      "source": [
        "<a href=\"https://colab.research.google.com/github/datascienceurc/Laboratorios/blob/main/lab4_cruz.ipynb\" target=\"_parent\"><img src=\"https://colab.research.google.com/assets/colab-badge.svg\" alt=\"Open In Colab\"/></a>"
      ]
    },
    {
      "cell_type": "code",
      "execution_count": null,
      "metadata": {
        "id": "O_FQ4l5pEE_s"
      },
      "outputs": [],
      "source": []
    },
    {
      "cell_type": "code",
      "source": [
        "from google.colab import drive\n",
        "drive.mount('/content/drive')"
      ],
      "metadata": {
        "colab": {
          "base_uri": "https://localhost:8080/"
        },
        "id": "Fx_E0RjQEIdr",
        "outputId": "12da9047-2b27-4ae4-8837-95b51c172bc7"
      },
      "execution_count": 1,
      "outputs": [
        {
          "output_type": "stream",
          "name": "stdout",
          "text": [
            "Mounted at /content/drive\n"
          ]
        }
      ]
    },
    {
      "cell_type": "code",
      "source": [
        "path = \"/content/drive/MyDrive/Conjunto de datos/example.txt\"\n",
        "\n",
        "open(path).readline()"
      ],
      "metadata": {
        "colab": {
          "base_uri": "https://localhost:8080/",
          "height": 73
        },
        "id": "z1i8AKbUEtag",
        "outputId": "3b363470-4005-4d77-9ad6-16b965cff7f2"
      },
      "execution_count": 12,
      "outputs": [
        {
          "output_type": "execute_result",
          "data": {
            "text/plain": [
              "'{ \"a\": \"Mozilla\\\\/5.0 (Windows NT 6.1; WOW64) AppleWebKit\\\\/535.11 (KHTML, like Gecko) Chrome\\\\/17.0.963.78 Safari\\\\/535.11\", \"c\": \"US\", \"nk\": 1, \"tz\": \"America\\\\/New_York\", \"gr\": \"MA\", \"g\": \"A6qOVH\", \"h\": \"wfLQtf\", \"l\": \"orofrog\", \"al\": \"en-US,en;q=0.8\", \"hh\": \"1.usa.gov\", \"r\": \"http:\\\\/\\\\/www.facebook.com\\\\/l\\\\/7AQEFzjSi\\\\/1.usa.gov\\\\/wfLQtf\", \"u\": \"http:\\\\/\\\\/www.ncbi.nlm.nih.gov\\\\/pubmed\\\\/22415991\", \"t\": 1331923247, \"hc\": 1331822918, \"cy\": \"Danvers\", \"ll\": [ 42.576698, -70.954903 ] }\\n'"
            ],
            "application/vnd.google.colaboratory.intrinsic+json": {
              "type": "string"
            }
          },
          "metadata": {},
          "execution_count": 12
        }
      ]
    },
    {
      "cell_type": "code",
      "source": [
        "import json\n",
        "\n",
        "path = \"/content/drive/MyDrive/Conjunto de datos/example.txt\"\n",
        "\n",
        "records=[json.loads(line) for line  in open (path)]\n",
        "records[0]"
      ],
      "metadata": {
        "colab": {
          "base_uri": "https://localhost:8080/"
        },
        "id": "rwSQCzr7FcN2",
        "outputId": "bb67e24c-450a-4ad4-a172-3f71fd2ca9d1"
      },
      "execution_count": 4,
      "outputs": [
        {
          "output_type": "execute_result",
          "data": {
            "text/plain": [
              "{'a': 'Mozilla/5.0 (Windows NT 6.1; WOW64) AppleWebKit/535.11 (KHTML, like Gecko) Chrome/17.0.963.78 Safari/535.11',\n",
              " 'c': 'US',\n",
              " 'nk': 1,\n",
              " 'tz': 'America/New_York',\n",
              " 'gr': 'MA',\n",
              " 'g': 'A6qOVH',\n",
              " 'h': 'wfLQtf',\n",
              " 'l': 'orofrog',\n",
              " 'al': 'en-US,en;q=0.8',\n",
              " 'hh': '1.usa.gov',\n",
              " 'r': 'http://www.facebook.com/l/7AQEFzjSi/1.usa.gov/wfLQtf',\n",
              " 'u': 'http://www.ncbi.nlm.nih.gov/pubmed/22415991',\n",
              " 't': 1331923247,\n",
              " 'hc': 1331822918,\n",
              " 'cy': 'Danvers',\n",
              " 'll': [42.576698, -70.954903]}"
            ]
          },
          "metadata": {},
          "execution_count": 4
        }
      ]
    },
    {
      "cell_type": "code",
      "source": [
        "import json\n",
        "\n",
        "path = \"/content/drive/MyDrive/Conjunto de datos/example.txt\"\n",
        "\n",
        "records=[json.loads(line) for line  in open (path)]\n",
        "records[0]['tz']"
      ],
      "metadata": {
        "colab": {
          "base_uri": "https://localhost:8080/",
          "height": 36
        },
        "id": "omvr5cFrHIrU",
        "outputId": "d7106ccb-0806-48b6-fc8a-c4ecb91d5f34"
      },
      "execution_count": 5,
      "outputs": [
        {
          "output_type": "execute_result",
          "data": {
            "text/plain": [
              "'America/New_York'"
            ],
            "application/vnd.google.colaboratory.intrinsic+json": {
              "type": "string"
            }
          },
          "metadata": {},
          "execution_count": 5
        }
      ]
    },
    {
      "cell_type": "code",
      "source": [
        "import json\n",
        "\n",
        "path = \"/content/drive/MyDrive/Conjunto de datos/example.txt\"\n",
        "\n",
        "time_zones = [rec['tz'] for rec in records if 'tz' in rec]\n",
        "time_zones[:10]"
      ],
      "metadata": {
        "colab": {
          "base_uri": "https://localhost:8080/"
        },
        "id": "IrJGDlmcHUOt",
        "outputId": "4566ead2-3781-4a7c-a3fc-4e31a73b73c3"
      },
      "execution_count": 7,
      "outputs": [
        {
          "output_type": "execute_result",
          "data": {
            "text/plain": [
              "['America/New_York',\n",
              " 'America/Denver',\n",
              " 'America/New_York',\n",
              " 'America/Sao_Paulo',\n",
              " 'America/New_York',\n",
              " 'America/New_York',\n",
              " 'Europe/Warsaw',\n",
              " '',\n",
              " '',\n",
              " '']"
            ]
          },
          "metadata": {},
          "execution_count": 7
        }
      ]
    },
    {
      "cell_type": "code",
      "source": [
        "import json\n",
        "\n",
        "path = \"/content/drive/MyDrive/Conjunto de datos/example.txt\"\n",
        "\n",
        "time_zones = [rec['tz'] for rec in records if 'tz' in rec]\n",
        "time_zones[:10]"
      ],
      "metadata": {
        "id": "uvB6cagVIeTX"
      },
      "execution_count": null,
      "outputs": []
    },
    {
      "cell_type": "code",
      "source": [
        "import json\n",
        "\n",
        "path = \"/content/drive/MyDrive/Conjunto de datos/example.txt\"\n",
        "\n",
        "time_zones = [rec['tz'] for rec in records if 'tz' in rec]\n",
        "\n",
        "def get_counts(sequence):\n",
        "  counts={}\n",
        "  for x in sequence:\n",
        "    if x in counts:\n",
        "      counts [x]+=1\n",
        "    else:\n",
        "      counts [x]=1\n",
        "  return counts\n",
        "\n",
        "\n",
        "from collections import defaultdict\n",
        "def get_counts2(sequence):\n",
        "  counts=defaultdict(int)\n",
        "  for x in sequence:\n",
        "    if x in counts:\n",
        "      counts [x]+=1\n",
        "  return counts\n",
        "\n",
        "counts = get_counts(time_zones)\n",
        "counts['America/New_York']\n"
      ],
      "metadata": {
        "colab": {
          "base_uri": "https://localhost:8080/"
        },
        "id": "Ao3wE0ibJKN0",
        "outputId": "434808a4-bc85-4028-faaa-bbdd1938eb8b"
      },
      "execution_count": 10,
      "outputs": [
        {
          "output_type": "execute_result",
          "data": {
            "text/plain": [
              "1251"
            ]
          },
          "metadata": {},
          "execution_count": 10
        }
      ]
    },
    {
      "cell_type": "code",
      "source": [
        "import json\n",
        "\n",
        "path = \"/content/drive/MyDrive/Conjunto de datos/example.txt\"\n",
        "\n",
        "time_zones = [rec['tz'] for rec in records if 'tz' in rec]\n",
        "\n",
        "def get_counts(sequence):\n",
        "  counts={}\n",
        "  for x in sequence:\n",
        "    if x in counts:\n",
        "      counts [x]+=1\n",
        "    else:\n",
        "      counts [x]=1\n",
        "  return counts\n",
        "\n",
        "\n",
        "from collections import defaultdict\n",
        "def get_counts2(sequence):\n",
        "  counts=defaultdict(int)\n",
        "  for x in sequence:\n",
        "    if x in counts:\n",
        "      counts [x]+=1\n",
        "  return counts\n",
        "\n",
        "len(time_zones)"
      ],
      "metadata": {
        "colab": {
          "base_uri": "https://localhost:8080/"
        },
        "id": "g7UF09r8L5Cx",
        "outputId": "07fc544b-1e05-4bc7-813f-71fa8da0e849"
      },
      "execution_count": 11,
      "outputs": [
        {
          "output_type": "execute_result",
          "data": {
            "text/plain": [
              "3440"
            ]
          },
          "metadata": {},
          "execution_count": 11
        }
      ]
    },
    {
      "cell_type": "code",
      "source": [
        "import json\n",
        "\n",
        "path = \"/content/drive/MyDrive/Conjunto de datos/example.txt\"\n",
        "\n",
        "time_zones = [rec['tz'] for rec in records if 'tz' in rec]\n",
        "\n",
        "def get_counts(sequence):\n",
        "  counts={}\n",
        "  for x in sequence:\n",
        "    if x in counts:\n",
        "      counts [x]+=1\n",
        "    else:\n",
        "      counts [x]=1\n",
        "  return counts\n",
        "\n",
        "\n",
        "from collections import defaultdict\n",
        "def get_counts2(sequence):\n",
        "  counts=defaultdict(int)\n",
        "  for x in sequence:\n",
        "    if x in counts:\n",
        "      counts [x]+=1\n",
        "  return counts\n",
        "\n",
        "\n",
        "def top_counts(count_dict,n=10)\n",
        "  value_key_pairs=[(count,tz)for tz,count in count_dict.items()]\n",
        "  value_key_pairs.sort()\n",
        "  return value_key_pairs[-n:]\n",
        "\n",
        "\n",
        "  top_counts\n",
        "\n",
        "\n"
      ],
      "metadata": {
        "id": "36Ss8tQ4MDm2"
      },
      "execution_count": null,
      "outputs": []
    }
  ]
}
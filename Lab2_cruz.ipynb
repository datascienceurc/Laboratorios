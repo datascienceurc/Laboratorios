{
  "nbformat": 4,
  "nbformat_minor": 0,
  "metadata": {
    "colab": {
      "provenance": [],
      "authorship_tag": "ABX9TyO1KTUTF1XR00CZtWWiFOwf",
      "include_colab_link": true
    },
    "kernelspec": {
      "name": "python3",
      "display_name": "Python 3"
    },
    "language_info": {
      "name": "python"
    }
  },
  "cells": [
    {
      "cell_type": "markdown",
      "metadata": {
        "id": "view-in-github",
        "colab_type": "text"
      },
      "source": [
        "<a href=\"https://colab.research.google.com/github/datascienceurc/Laboratorios/blob/main/Lab2_cruz.ipynb\" target=\"_parent\"><img src=\"https://colab.research.google.com/assets/colab-badge.svg\" alt=\"Open In Colab\"/></a>"
      ]
    },
    {
      "cell_type": "markdown",
      "source": [
        "# Analísis descriptivo con python\n"
      ],
      "metadata": {
        "id": "EOXxCXDFfW__"
      }
    },
    {
      "cell_type": "markdown",
      "source": [
        "### Verificar lectura de csv\n"
      ],
      "metadata": {
        "id": "ST5qzrB0Pp8c"
      }
    },
    {
      "cell_type": "code",
      "execution_count": null,
      "metadata": {
        "colab": {
          "base_uri": "https://localhost:8080/"
        },
        "id": "Cu8LTWaaPhdM",
        "outputId": "5f0e8808-058c-46eb-e779-88130bf1c50a"
      },
      "outputs": [
        {
          "output_type": "stream",
          "name": "stdout",
          "text": [
            "41418\n"
          ]
        }
      ],
      "source": [
        "# Importar libreria pandas\n",
        "import pandas as pd\n",
        "\n",
        "# Obtener url de archivo csv\n",
        "path =\"/content/atenciones_abogadas_de_las_mujeres.csv\"\n",
        "\n",
        "# Leer el CSV\n",
        "df = pd.read_csv(path)\n",
        "# Obtener el número de registros\n",
        "registros = df.shape[0]\n",
        "\n",
        "# Imprimir el número de registros\n",
        "print(registros)\n",
        "\n",
        "\n"
      ]
    },
    {
      "cell_type": "markdown",
      "source": [
        "### Obtener detalle de los datos con uso de la función info()\n",
        "\n",
        "\n",
        "\n"
      ],
      "metadata": {
        "id": "xvESZp_Wem08"
      }
    },
    {
      "cell_type": "code",
      "source": [
        "# Importar libreria pandas\n",
        "import pandas as pd\n",
        "\n",
        "# Obtener url de archivo csv\n",
        "path =\"/content/atenciones_abogadas_de_las_mujeres.csv\"\n",
        "\n",
        "# Leer el CSV\n",
        "df = pd.read_csv(path)\n",
        "\n",
        "'''\n",
        "La funcion info() devuelve información sobre el dataframe,\n",
        "como el número de filas,el número de columnas y el tipo de\n",
        "datos de cada columna.\n",
        "'''\n",
        "df.info()"
      ],
      "metadata": {
        "colab": {
          "base_uri": "https://localhost:8080/"
        },
        "id": "vovwtsUOetdU",
        "outputId": "fe429dc5-83d1-45f3-b3ff-105d48c41f33"
      },
      "execution_count": null,
      "outputs": [
        {
          "output_type": "stream",
          "name": "stdout",
          "text": [
            "<class 'pandas.core.frame.DataFrame'>\n",
            "RangeIndex: 40950 entries, 0 to 40949\n",
            "Data columns (total 10 columns):\n",
            " #   Column                      Non-Null Count  Dtype \n",
            "---  ------                      --------------  ----- \n",
            " 0   fecha                       40950 non-null  object\n",
            " 1   agencia                     40659 non-null  object\n",
            " 2   usuaria_sexo                40894 non-null  object\n",
            " 3   usuaria_nacionalidad        40902 non-null  object\n",
            " 4   usuaria_ent_fed_nacimiento  40559 non-null  object\n",
            " 5   usuaria_estado_civil        31508 non-null  object\n",
            " 6   usuaria_edad                40950 non-null  int64 \n",
            " 7   relacion_con_agresora       26910 non-null  object\n",
            " 8   delito                      40681 non-null  object\n",
            " 9   violencia_modalidad         38819 non-null  object\n",
            "dtypes: int64(1), object(9)\n",
            "memory usage: 3.1+ MB\n"
          ]
        }
      ]
    },
    {
      "cell_type": "markdown",
      "source": [
        "### Obtener detalle de los datos con uso de la función tail()\n"
      ],
      "metadata": {
        "id": "NXAuUE0ku1-8"
      }
    },
    {
      "cell_type": "code",
      "source": [
        "# Importar libreria pandas\n",
        "import pandas as pd\n",
        "\n",
        "# Obtener url de archivo csv\n",
        "path =\"/content/atenciones_abogadas_de_las_mujeres.csv\"\n",
        "\n",
        "# Leer el CSV\n",
        "df = pd.read_csv(path)\n",
        "\n",
        "'''\n",
        "El método tail() es útil para mostrar un\n",
        "subconjunto del contenido del dataframe.\n",
        "'''\n",
        "df.tail(1)"
      ],
      "metadata": {
        "colab": {
          "base_uri": "https://localhost:8080/",
          "height": 118
        },
        "id": "J_p4SmHIurMU",
        "outputId": "1928d407-ea5c-48f4-e9b9-5e229ec722ad"
      },
      "execution_count": null,
      "outputs": [
        {
          "output_type": "execute_result",
          "data": {
            "text/plain": [
              "            fecha agencia usuaria_sexo usuaria_nacionalidad  \\\n",
              "41417  01/03/2022   COY-5        MUJER             MEXICANA   \n",
              "\n",
              "            usuaria_ent_fed_nacimiento usuaria_estado_civil  usuaria_edad  \\\n",
              "41417  VERACRUZ DE IGNACIO DE LA LLAVE           SOLTERA(O)          31.0   \n",
              "\n",
              "      relacion_con_agresora              delito violencia_modalidad  \n",
              "41417              EXPAREJA  VIOLENCIA FAMILIAR            FAMILIAR  "
            ],
            "text/html": [
              "\n",
              "  <div id=\"df-90c0cc2a-00c1-47e3-8e84-883ec32ccdf7\" class=\"colab-df-container\">\n",
              "    <div>\n",
              "<style scoped>\n",
              "    .dataframe tbody tr th:only-of-type {\n",
              "        vertical-align: middle;\n",
              "    }\n",
              "\n",
              "    .dataframe tbody tr th {\n",
              "        vertical-align: top;\n",
              "    }\n",
              "\n",
              "    .dataframe thead th {\n",
              "        text-align: right;\n",
              "    }\n",
              "</style>\n",
              "<table border=\"1\" class=\"dataframe\">\n",
              "  <thead>\n",
              "    <tr style=\"text-align: right;\">\n",
              "      <th></th>\n",
              "      <th>fecha</th>\n",
              "      <th>agencia</th>\n",
              "      <th>usuaria_sexo</th>\n",
              "      <th>usuaria_nacionalidad</th>\n",
              "      <th>usuaria_ent_fed_nacimiento</th>\n",
              "      <th>usuaria_estado_civil</th>\n",
              "      <th>usuaria_edad</th>\n",
              "      <th>relacion_con_agresora</th>\n",
              "      <th>delito</th>\n",
              "      <th>violencia_modalidad</th>\n",
              "    </tr>\n",
              "  </thead>\n",
              "  <tbody>\n",
              "    <tr>\n",
              "      <th>41417</th>\n",
              "      <td>01/03/2022</td>\n",
              "      <td>COY-5</td>\n",
              "      <td>MUJER</td>\n",
              "      <td>MEXICANA</td>\n",
              "      <td>VERACRUZ DE IGNACIO DE LA LLAVE</td>\n",
              "      <td>SOLTERA(O)</td>\n",
              "      <td>31.0</td>\n",
              "      <td>EXPAREJA</td>\n",
              "      <td>VIOLENCIA FAMILIAR</td>\n",
              "      <td>FAMILIAR</td>\n",
              "    </tr>\n",
              "  </tbody>\n",
              "</table>\n",
              "</div>\n",
              "    <div class=\"colab-df-buttons\">\n",
              "\n",
              "  <div class=\"colab-df-container\">\n",
              "    <button class=\"colab-df-convert\" onclick=\"convertToInteractive('df-90c0cc2a-00c1-47e3-8e84-883ec32ccdf7')\"\n",
              "            title=\"Convert this dataframe to an interactive table.\"\n",
              "            style=\"display:none;\">\n",
              "\n",
              "  <svg xmlns=\"http://www.w3.org/2000/svg\" height=\"24px\" viewBox=\"0 -960 960 960\">\n",
              "    <path d=\"M120-120v-720h720v720H120Zm60-500h600v-160H180v160Zm220 220h160v-160H400v160Zm0 220h160v-160H400v160ZM180-400h160v-160H180v160Zm440 0h160v-160H620v160ZM180-180h160v-160H180v160Zm440 0h160v-160H620v160Z\"/>\n",
              "  </svg>\n",
              "    </button>\n",
              "\n",
              "  <style>\n",
              "    .colab-df-container {\n",
              "      display:flex;\n",
              "      gap: 12px;\n",
              "    }\n",
              "\n",
              "    .colab-df-convert {\n",
              "      background-color: #E8F0FE;\n",
              "      border: none;\n",
              "      border-radius: 50%;\n",
              "      cursor: pointer;\n",
              "      display: none;\n",
              "      fill: #1967D2;\n",
              "      height: 32px;\n",
              "      padding: 0 0 0 0;\n",
              "      width: 32px;\n",
              "    }\n",
              "\n",
              "    .colab-df-convert:hover {\n",
              "      background-color: #E2EBFA;\n",
              "      box-shadow: 0px 1px 2px rgba(60, 64, 67, 0.3), 0px 1px 3px 1px rgba(60, 64, 67, 0.15);\n",
              "      fill: #174EA6;\n",
              "    }\n",
              "\n",
              "    .colab-df-buttons div {\n",
              "      margin-bottom: 4px;\n",
              "    }\n",
              "\n",
              "    [theme=dark] .colab-df-convert {\n",
              "      background-color: #3B4455;\n",
              "      fill: #D2E3FC;\n",
              "    }\n",
              "\n",
              "    [theme=dark] .colab-df-convert:hover {\n",
              "      background-color: #434B5C;\n",
              "      box-shadow: 0px 1px 3px 1px rgba(0, 0, 0, 0.15);\n",
              "      filter: drop-shadow(0px 1px 2px rgba(0, 0, 0, 0.3));\n",
              "      fill: #FFFFFF;\n",
              "    }\n",
              "  </style>\n",
              "\n",
              "    <script>\n",
              "      const buttonEl =\n",
              "        document.querySelector('#df-90c0cc2a-00c1-47e3-8e84-883ec32ccdf7 button.colab-df-convert');\n",
              "      buttonEl.style.display =\n",
              "        google.colab.kernel.accessAllowed ? 'block' : 'none';\n",
              "\n",
              "      async function convertToInteractive(key) {\n",
              "        const element = document.querySelector('#df-90c0cc2a-00c1-47e3-8e84-883ec32ccdf7');\n",
              "        const dataTable =\n",
              "          await google.colab.kernel.invokeFunction('convertToInteractive',\n",
              "                                                    [key], {});\n",
              "        if (!dataTable) return;\n",
              "\n",
              "        const docLinkHtml = 'Like what you see? Visit the ' +\n",
              "          '<a target=\"_blank\" href=https://colab.research.google.com/notebooks/data_table.ipynb>data table notebook</a>'\n",
              "          + ' to learn more about interactive tables.';\n",
              "        element.innerHTML = '';\n",
              "        dataTable['output_type'] = 'display_data';\n",
              "        await google.colab.output.renderOutput(dataTable, element);\n",
              "        const docLink = document.createElement('div');\n",
              "        docLink.innerHTML = docLinkHtml;\n",
              "        element.appendChild(docLink);\n",
              "      }\n",
              "    </script>\n",
              "  </div>\n",
              "\n",
              "    </div>\n",
              "  </div>\n"
            ]
          },
          "metadata": {},
          "execution_count": 22
        }
      ]
    },
    {
      "cell_type": "markdown",
      "source": [
        "### Obtener el rango de fecha\n"
      ],
      "metadata": {
        "id": "L9nJNgO9xwYE"
      }
    },
    {
      "cell_type": "code",
      "source": [
        "# Importar libreria pandas\n",
        "import pandas as pd\n",
        "\n",
        "# Obtener url de archivo csv\n",
        "path =\"/content/atenciones_abogadas_de_las_mujeres.csv\"\n",
        "\n",
        "# Leer el CSV\n",
        "df = pd.read_csv(path)\n",
        "\n",
        "# Dar formato de fecha\n",
        "df[\"fecha\"] = pd.to_datetime(df[\"fecha\"], format=\"%d/%m/%Y\")\n",
        "\n",
        "# Obtener el rango de fecha minimo\n",
        "fecha_inicial = df[\"fecha\"].min()\n",
        "\n",
        "# Obtener el rango de fecha maximo\n",
        "fecha_final = df[\"fecha\"].max()\n",
        "\n",
        "#Imprimir rango de fecha\n",
        "print(f\"El rango de fecha es del {fecha_inicial} al {fecha_final}\")\n",
        "\n"
      ],
      "metadata": {
        "id": "zkCQCtulyTnV",
        "colab": {
          "base_uri": "https://localhost:8080/"
        },
        "outputId": "aede812b-247d-4843-e931-3b4ab54d955b"
      },
      "execution_count": 13,
      "outputs": [
        {
          "output_type": "stream",
          "name": "stdout",
          "text": [
            "El rango de fecha es del 2019-03-01 00:00:00 al 2022-03-01 00:00:00\n"
          ]
        }
      ]
    },
    {
      "cell_type": "markdown",
      "source": [
        "### Media por edad"
      ],
      "metadata": {
        "id": "PAiufxUtKDqt"
      }
    },
    {
      "cell_type": "code",
      "source": [
        "# Importar libreria pandas y matplotlib\n",
        "import pandas as pd\n",
        "import matplotlib.pyplot as plt\n",
        "\n",
        "# Obtener url de archivo csv\n",
        "path =\"/content/atenciones_abogadas_de_las_mujeres.csv\"\n",
        "\n",
        "# Leer el CSV\n",
        "df = pd.read_csv(path)\n",
        "\n",
        "# Obtener la media\n",
        "media = df[\"usuaria_edad\"].mean()\n",
        "\n",
        "# Imprimir la media\n",
        "print(media)\n"
      ],
      "metadata": {
        "colab": {
          "base_uri": "https://localhost:8080/"
        },
        "id": "MwAy37SwHW-Y",
        "outputId": "ab2a9b9f-e9b4-41b5-a14a-10220b221947"
      },
      "execution_count": null,
      "outputs": [
        {
          "output_type": "stream",
          "name": "stdout",
          "text": [
            "36.142588522588525\n"
          ]
        }
      ]
    },
    {
      "cell_type": "markdown",
      "source": [
        "### Distribución por edad\n"
      ],
      "metadata": {
        "id": "cHAS-wsp_5Wo"
      }
    },
    {
      "cell_type": "code",
      "source": [
        "# Importar libreria pandas y matplotlib\n",
        "import pandas as pd\n",
        "import matplotlib.pyplot as plt\n",
        "\n",
        "# Obtener url de archivo csv\n",
        "path =\"/content/atenciones_abogadas_de_las_mujeres.csv\"\n",
        "\n",
        "# Leer el CSV\n",
        "df = pd.read_csv(path)\n",
        "\n",
        "# Obtener la serie de datos df[\"usuaria_edad\"]\n",
        "edad = df[\"usuaria_edad\"]\n",
        "# Crear la distribución\n",
        "dist = edad.value_counts()\n",
        "# Crear el gráfico\n",
        "plt.bar(dist.index, dist.values)\n",
        "# Ajustar el eje x\n",
        "plt.xlim(0, 100)\n",
        "# Mostrar el gráfico\n",
        "plt.show()\n",
        "\n",
        "\n"
      ],
      "metadata": {
        "id": "eH2ZXlQe1y2M",
        "colab": {
          "base_uri": "https://localhost:8080/",
          "height": 430
        },
        "outputId": "472822d1-57f9-4791-8779-16fa72e54424"
      },
      "execution_count": null,
      "outputs": [
        {
          "output_type": "display_data",
          "data": {
            "text/plain": [
              "<Figure size 640x480 with 1 Axes>"
            ],
            "image/png": "[encoded data removed]"
          },
          "metadata": {}
        }
      ]
    },
    {
      "cell_type": "markdown",
      "source": [
        "### Mediana"
      ],
      "metadata": {
        "id": "8gPRFglwK0eC"
      }
    },
    {
      "cell_type": "code",
      "source": [
        "# Importar libreria pandas y matplotlib\n",
        "import pandas as pd\n",
        "import matplotlib.pyplot as plt\n",
        "\n",
        "# Obtener url de archivo csv\n",
        "path =\"/content/atenciones_abogadas_de_las_mujeres.csv\"\n",
        "\n",
        "# Leer el CSV\n",
        "df = pd.read_csv(path)\n",
        "\n",
        "# Obtener la media\n",
        "mediana = df[\"usuaria_edad\"].median()\n",
        "\n",
        "# Imprimir la media\n",
        "print(mediana)"
      ],
      "metadata": {
        "colab": {
          "base_uri": "https://localhost:8080/"
        },
        "id": "8s-nFbYfLD7F",
        "outputId": "b7937053-44ee-4e60-f62d-20ed1ef5cb3c"
      },
      "execution_count": null,
      "outputs": [
        {
          "output_type": "stream",
          "name": "stdout",
          "text": [
            "33.0\n"
          ]
        }
      ]
    },
    {
      "cell_type": "markdown",
      "source": [
        "### Moda\n"
      ],
      "metadata": {
        "id": "I4jqRwymLuPG"
      }
    },
    {
      "cell_type": "code",
      "source": [
        "# Importar libreria pandas y matplotlib\n",
        "import pandas as pd\n",
        "import matplotlib.pyplot as plt\n",
        "\n",
        "# Obtener url de archivo csv\n",
        "path =\"/content/atenciones_abogadas_de_las_mujeres.csv\"\n",
        "\n",
        "# Leer el CSV\n",
        "df = pd.read_csv(path)\n",
        "\n",
        "# Obtener la media\n",
        "moda = df[\"usuaria_edad\"].mode()\n",
        "\n",
        "# Imprimir la media\n",
        "print(moda)"
      ],
      "metadata": {
        "colab": {
          "base_uri": "https://localhost:8080/"
        },
        "id": "jFOV6xDZL1e4",
        "outputId": "19a7def3-b786-4347-c078-09750fa12115"
      },
      "execution_count": null,
      "outputs": [
        {
          "output_type": "stream",
          "name": "stdout",
          "text": [
            "0    27\n",
            "Name: usuaria_edad, dtype: int64\n"
          ]
        }
      ]
    },
    {
      "cell_type": "markdown",
      "source": [
        "### Gráfica de barras"
      ],
      "metadata": {
        "id": "RKsn9hqg5Oks"
      }
    },
    {
      "cell_type": "code",
      "source": [
        "import pandas as pd\n",
        "import matplotlib.pyplot as plt\n",
        "\n",
        "# Obtener url de archivo csv\n",
        "path =\"/content/atenciones_abogadas_de_las_mujeres.csv\"\n",
        "\n",
        "# Leer el CSV\n",
        "df = pd.read_csv(path)\n",
        "\n",
        "# Obtener el conteo de cada categoría\n",
        "conteo = df[\"usuaria_estado_civil\"].value_counts()\n",
        "\n",
        "# Crear el diagrama de barras\n",
        "plt.bar(conteo.index,conteo)\n",
        "\n",
        "# Mostrar el diagrama de barras\n",
        "plt.show()"
      ],
      "metadata": {
        "colab": {
          "base_uri": "https://localhost:8080/",
          "height": 430
        },
        "id": "EzObnyXA55m1",
        "outputId": "c0bcd647-defe-4ac4-a4b9-c461b5d538a0"
      },
      "execution_count": 15,
      "outputs": [
        {
          "output_type": "display_data",
          "data": {
            "text/plain": [
              "<Figure size 640x480 with 1 Axes>"
            ],
            "image/png": "[encoded data removed]"
          },
          "metadata": {}
        }
      ]
    },
    {
      "cell_type": "code",
      "source": [],
      "metadata": {
        "id": "DBMTiaOR7K0L"
      },
      "execution_count": null,
      "outputs": []
    },
    {
      "cell_type": "code",
      "source": [
        "import pandas as pd\n",
        "import seaborn as sns\n",
        "\n",
        "\n",
        "# Obtener url de archivo csv\n",
        "path =\"/content/atenciones_abogadas_de_las_mujeres.csv\"\n",
        "\n",
        "# Leer el CSV\n",
        "df = pd.read_csv(path)\n",
        "\n",
        "# Agrupar las fechas por día\n",
        "df_agrupado = df.groupby(\"fecha\")\n",
        "\n",
        "# Imprimir el dataframe agrupado\n",
        "print(df_agrupado)\n",
        "\n",
        "\n"
      ],
      "metadata": {
        "id": "IjG6Sdmg7Lnz"
      },
      "execution_count": null,
      "outputs": []
    }
  ]
}